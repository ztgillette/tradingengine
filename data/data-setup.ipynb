{
 "cells": [
  {
   "cell_type": "code",
   "execution_count": 9,
   "metadata": {},
   "outputs": [],
   "source": [
    "#get a list of all file names\n",
    "folders = ['/Users/ztgillette/Documents/CS/Personal Projects/Other/tradingengine/data-setup/2020',\n",
    "           '/Users/ztgillette/Documents/CS/Personal Projects/Other/tradingengine/data-setup/2021',\n",
    "           '/Users/ztgillette/Documents/CS/Personal Projects/Other/tradingengine/data-setup/2022',\n",
    "           '/Users/ztgillette/Documents/CS/Personal Projects/Other/tradingengine/data-setup/2023',\n",
    "           '/Users/ztgillette/Documents/CS/Personal Projects/Other/tradingengine/data-setup/2024']\n"
   ]
  },
  {
   "cell_type": "code",
   "execution_count": 10,
   "metadata": {},
   "outputs": [
    {
     "name": "stdout",
     "output_type": "stream",
     "text": [
      "230\n"
     ]
    }
   ],
   "source": [
    "#get a list of all the files\n",
    "\n",
    "import os\n",
    "import glob\n",
    "files = []\n",
    "for folder in folders:\n",
    "\n",
    "    files_raw = glob.glob(os.path.join(folder, '*'))\n",
    "    \n",
    "\n",
    "    for file_raw in files_raw:\n",
    "\n",
    "        file = str(file_raw)\n",
    "        # file = file[0:].replace(\"\\ \", \" \").replace(\"\\\\\\\\\", \"\\\\\")\n",
    "\n",
    "        files.append(file)\n",
    "\n",
    "print(len(files))"
   ]
  },
  {
   "cell_type": "code",
   "execution_count": null,
   "metadata": {},
   "outputs": [],
   "source": [
    "#data\n",
    "a2020_10 = []"
   ]
  },
  {
   "cell_type": "code",
   "execution_count": 54,
   "metadata": {},
   "outputs": [
    {
     "name": "stdout",
     "output_type": "stream",
     "text": [
      "['3855440', '8/9/20 17:59', '3347.25', '11131.5', '1568.4', '334.57', '271.47', '156.17', '444.45', '212.48', '447.98', '113.74', '24.84', '63.51', '140.38', '57.4', '85.17', '0', '0', '0', '169.88', '8176856']\n",
      "['X2020-01', 'X2020-02', 'X2020-03', 'X2020-04', 'X2020-05', 'X2020-06', 'X2020-07', 'X2020-08', 'X2020-09', 'X2020-10', 'X2020-11', 'X2020-12', 'X2021-01', 'X2021-02', 'X2021-03', 'X2021-04', 'X2021-05', 'X2021-06', 'X2021-07', 'X2021-08', 'X2021-09', 'X2021-10', 'X2021-11', 'X2021-12', 'X2022-01', 'X2022-02', 'X2022-03', 'X2022-04', 'X2022-05', 'X2022-06', 'X2022-07', 'X2022-08', 'X2022-09', 'X2022-10', 'X2022-11', 'X2022-12', 'X2023-01', 'X2023-02', 'X2023-03', 'X2023-04', 'X2023-05', 'X2023-06', 'X2023-07', 'X2023-08', 'X2023-09', 'X2023-10', 'X2023-11', 'X2023-12', 'X2024-01', 'X2024-02', 'X2024-03', 'X2024-04', 'X2024-05', 'X2024-06', 'X2024-07']\n"
     ]
    }
   ],
   "source": [
    "#loop through all 230 files and extract their data, adding to one single csv\n",
    "\n",
    "import csv\n",
    "\n",
    "data = {}\n",
    "filecounter = 0\n",
    "\n",
    "for i in range(len(files)):\n",
    "\n",
    "    file = files[i]\n",
    "\n",
    "    # Open the CSV file\n",
    "    with open(file, mode='r') as file:\n",
    "        # Create a CSV reader object\n",
    "        csv_reader = csv.reader(file)\n",
    "        \n",
    "        # Skip the header row (optional)\n",
    "        header = next(csv_reader)\n",
    "\n",
    "        #second counter\n",
    "        second_counter = 0\n",
    "\n",
    "        # Iterate over the rows in the CSV file\n",
    "        for row in csv_reader:\n",
    "            \n",
    "            #process dates 2020-10-18-17-59-37\n",
    "            timestamp = row[1].replace(\" \", \"-\").replace(\":\", \"-\").split('.')[0]\n",
    "\n",
    "            key = 'X' + timestamp[:7]\n",
    "\n",
    "            if timestamp.find('/') > 0:\n",
    "                s = timestamp.split('/')\n",
    "                month = s[0]\n",
    "                day = s[1]\n",
    "                if len(day) == 1:\n",
    "                    day = '0' + day\n",
    "\n",
    "                if len(month) == 1:\n",
    "                    month = '0' + month  \n",
    "                year = s[2][:4]\n",
    "\n",
    "                key = 'X' + year + '-' + month\n",
    "                timestamp = '' + year + '-' + month + '-' + day + s[2][4:]\n",
    "            \n",
    "\n",
    "            #repair messed up data\n",
    "            if len(timestamp) != len(\"2022-11-25-13-51-32\"):\n",
    "\n",
    "                if(timestamp.find('-') == 4):\n",
    "                    timestamp += '-' + str(second_counter % 60)\n",
    "                    second_counter += 3\n",
    "                elif timestamp.find('-') != 5:\n",
    "                    print(row)\n",
    "                    break\n",
    "\n",
    "\n",
    "                x = timestamp.split('-')\n",
    "                \n",
    "                if(len(x[0]) == 2):\n",
    "                    x[0] = '20' + x[0]\n",
    "\n",
    "                for i in range(6):\n",
    "\n",
    "                    if len(x[i]) == 1:\n",
    "                        x[i] = '0' + x[i]\n",
    "\n",
    "\n",
    "\n",
    "                timestamp = x[0] + '-' + x[1] + '-' + x[2] + '-' + x[3] + '-' + x[4] + '-' + x[5]\n",
    "\n",
    "            \n",
    "            #some data messed up\n",
    "            if len(timestamp) == len(\"2022-11-25-13-51-32\"):\n",
    "\n",
    "                if key not in data:\n",
    "                    data[key] = [[timestamp, row[2], row[3], row[4], row[5], row[6], row[8], row[9], row[10]]]\n",
    "                else:\n",
    "                    data[key].append([timestamp, row[2], row[3], row[4], row[5], row[6], row[8], row[9], row[10]])\n",
    "            else:\n",
    "                print(timestamp + \" : \" + str(len(timestamp)))\n",
    "\n",
    "    # print(i)\n",
    "print(sorted(data.keys()))"
   ]
  },
  {
   "cell_type": "code",
   "execution_count": 55,
   "metadata": {},
   "outputs": [],
   "source": [
    "#sort into different array\n",
    "\n",
    "for k in data.keys():\n",
    "\n",
    "    filename = k[1:] + '.csv'\n",
    "\n",
    "    with open(filename, mode='w') as file:\n",
    "        writer = csv.writer(file)\n",
    "        \n",
    "        # Write the header\n",
    "        writer.writerow(['Timestamp', 'emini', 'nasdaq', 'russell', 'spy', 'qqq', 'apple', 'microsoft', 'nvidia'])\n",
    "        \n",
    "        # Write the data\n",
    "        for row in data[k]:\n",
    "            writer.writerow(row)\n"
   ]
  }
 ],
 "metadata": {
  "kernelspec": {
   "display_name": "Python 3",
   "language": "python",
   "name": "python3"
  },
  "language_info": {
   "codemirror_mode": {
    "name": "ipython",
    "version": 3
   },
   "file_extension": ".py",
   "mimetype": "text/x-python",
   "name": "python",
   "nbconvert_exporter": "python",
   "pygments_lexer": "ipython3",
   "version": "3.11.3"
  }
 },
 "nbformat": 4,
 "nbformat_minor": 2
}
